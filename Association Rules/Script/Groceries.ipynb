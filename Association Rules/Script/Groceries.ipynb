{
 "cells": [
  {
   "cell_type": "code",
   "execution_count": 7,
   "metadata": {},
   "outputs": [],
   "source": [
    "import pandas as pd\n",
    "import matplotlib.pyplot as plt\n",
    "import seaborn as sns\n",
    "import numpy as np\n",
    "from mlxtend.frequent_patterns import apriori, association_rules"
   ]
  },
  {
   "cell_type": "markdown",
   "metadata": {},
   "source": [
    "## Data Collection"
   ]
  },
  {
   "cell_type": "code",
   "execution_count": 11,
   "metadata": {},
   "outputs": [],
   "source": [
    "#Read Data\n",
    "groceries = []\n",
    "\n",
    "with open(\"C:/Users/manth/Assignment/Association rules/groceries.csv\") as f:\n",
    "    groceries = f.read()\n",
    "# print(groceries)"
   ]
  },
  {
   "cell_type": "code",
   "execution_count": 12,
   "metadata": {},
   "outputs": [
    {
     "data": {
      "text/plain": [
       "9836"
      ]
     },
     "execution_count": 12,
     "metadata": {},
     "output_type": "execute_result"
    }
   ],
   "source": [
    "# split each row as transactions\n",
    "\n",
    "groceries = groceries.split(\"\\n\")\n",
    "len(groceries)"
   ]
  },
  {
   "cell_type": "code",
   "execution_count": 13,
   "metadata": {},
   "outputs": [],
   "source": [
    "# split each transactions(line) as seperate product by spliting columns\n",
    "\n",
    "groceries_list =[]\n",
    "\n",
    "for transaction in groceries:\n",
    "    groceries_list.append(transaction.split(\",\"))\n",
    "# print(groceries_list)\n",
    "# len(groceries_list)"
   ]
  },
  {
   "cell_type": "code",
   "execution_count": 15,
   "metadata": {},
   "outputs": [],
   "source": [
    "#store all the indivisual products in one single list []\n",
    "\n",
    "all_groceries_list = [product for transaction in groceries_list for product in transaction]\n",
    "# print(all_groceries_list)\n",
    "# len(all_groceries_list)"
   ]
  },
  {
   "cell_type": "markdown",
   "metadata": {},
   "source": [
    "## Exploratory Data Analysis (EDA)"
   ]
  },
  {
   "cell_type": "code",
   "execution_count": 17,
   "metadata": {},
   "outputs": [],
   "source": [
    "from collections import Counter\n",
    "from collections import OrderedDict\n",
    "\n",
    "item_frequency=Counter(all_groceries_list)\n",
    "# print(item_frequency)"
   ]
  },
  {
   "cell_type": "code",
   "execution_count": 18,
   "metadata": {},
   "outputs": [
    {
     "data": {
      "text/plain": [
       "170"
      ]
     },
     "execution_count": 18,
     "metadata": {},
     "output_type": "execute_result"
    }
   ],
   "source": [
    "item_frequency=sorted(item_frequency.items(), key = lambda x:x[1]) \n",
    "# print(item_frequency)\n",
    "len(item_frequency)"
   ]
  },
  {
   "cell_type": "code",
   "execution_count": 19,
   "metadata": {},
   "outputs": [
    {
     "name": "stdout",
     "output_type": "stream",
     "text": [
      "170\n",
      "170\n"
     ]
    }
   ],
   "source": [
    "#Split Items(products) and its frequency\n",
    "\n",
    "frequencies = list(reversed([i[1] for i in item_frequency]))\n",
    "items = list(reversed([i[0] for i in item_frequency]))\n",
    "\n",
    "print(len(frequencies))\n",
    "print(len(items))"
   ]
  },
  {
   "cell_type": "code",
   "execution_count": 20,
   "metadata": {},
   "outputs": [
    {
     "name": "stdout",
     "output_type": "stream",
     "text": [
      "[2513, 1903, 1809, 1715, 1372, 1087, 1072, 1032, 969, 924]\n",
      "['whole milk', 'other vegetables', 'rolls/buns', 'soda', 'yogurt', 'bottled water', 'root vegetables', 'tropical fruit', 'shopping bags', 'sausage']\n"
     ]
    }
   ],
   "source": [
    "# Top 10 proucts based on frequency\n",
    "\n",
    "print(frequencies[0:10])\n",
    "print(items[0:10])"
   ]
  },
  {
   "cell_type": "code",
   "execution_count": 21,
   "metadata": {},
   "outputs": [
    {
     "data": {
      "image/png": "[encoded data removed]",
      "text/plain": [
       "<Figure size 432x288 with 1 Axes>"
      ]
     },
     "metadata": {
      "needs_background": "light"
     },
     "output_type": "display_data"
    }
   ],
   "source": [
    "\n",
    "# Visualize the top 10 products \n",
    "\n",
    "plt.bar (items[0:10],height = frequencies[0:10],color='rgbkymc')\n",
    "plt.xticks(list(range(0,10),),items[0:10], rotation = 90)\n",
    "plt.xlabel(\"items\")\n",
    "plt.ylabel(\"Count\")\n",
    "plt.show()"
   ]
  },
  {
   "cell_type": "code",
   "execution_count": 23,
   "metadata": {},
   "outputs": [
    {
     "data": {
      "text/plain": [
       "0       [citrus fruit, semi-finished bread, margarine,...\n",
       "1                        [tropical fruit, yogurt, coffee]\n",
       "2                                            [whole milk]\n",
       "3        [pip fruit, yogurt, cream cheese , meat spreads]\n",
       "4       [other vegetables, whole milk, condensed milk,...\n",
       "                              ...                        \n",
       "9830    [sausage, chicken, beef, hamburger meat, citru...\n",
       "9831                                  [cooking chocolate]\n",
       "9832    [chicken, citrus fruit, other vegetables, butt...\n",
       "9833    [semi-finished bread, bottled water, soda, bot...\n",
       "9834    [chicken, tropical fruit, other vegetables, vi...\n",
       "Name: transactions, Length: 9835, dtype: object"
      ]
     },
     "execution_count": 23,
     "metadata": {},
     "output_type": "execute_result"
    }
   ],
   "source": [
    "# Creating Data Frame for the transactions data \n",
    "\n",
    "groceries_series  = pd.DataFrame(pd.Series(groceries_list))\n",
    "groceries_series = groceries_series.iloc[:9835,:] # removing the last empty transaction\n",
    "groceries_series.columns = [\"transactions\"]\n",
    "groceries_series[\"transactions\"]"
   ]
  },
  {
   "cell_type": "code",
   "execution_count": 24,
   "metadata": {},
   "outputs": [
    {
     "data": {
      "text/html": [
       "<div>\n",
       "<style scoped>\n",
       "    .dataframe tbody tr th:only-of-type {\n",
       "        vertical-align: middle;\n",
       "    }\n",
       "\n",
       "    .dataframe tbody tr th {\n",
       "        vertical-align: top;\n",
       "    }\n",
       "\n",
       "    .dataframe thead th {\n",
       "        text-align: right;\n",
       "    }\n",
       "</style>\n",
       "<table border=\"1\" class=\"dataframe\">\n",
       "  <thead>\n",
       "    <tr style=\"text-align: right;\">\n",
       "      <th></th>\n",
       "      <th>Instant food products</th>\n",
       "      <th>UHT-milk</th>\n",
       "      <th>abrasive cleaner</th>\n",
       "      <th>artif. sweetener</th>\n",
       "      <th>baby cosmetics</th>\n",
       "      <th>baby food</th>\n",
       "      <th>bags</th>\n",
       "      <th>baking powder</th>\n",
       "      <th>bathroom cleaner</th>\n",
       "      <th>beef</th>\n",
       "      <th>...</th>\n",
       "      <th>turkey</th>\n",
       "      <th>vinegar</th>\n",
       "      <th>waffles</th>\n",
       "      <th>whipped/sour cream</th>\n",
       "      <th>whisky</th>\n",
       "      <th>white bread</th>\n",
       "      <th>white wine</th>\n",
       "      <th>whole milk</th>\n",
       "      <th>yogurt</th>\n",
       "      <th>zwieback</th>\n",
       "    </tr>\n",
       "  </thead>\n",
       "  <tbody>\n",
       "    <tr>\n",
       "      <td>0</td>\n",
       "      <td>0</td>\n",
       "      <td>0</td>\n",
       "      <td>0</td>\n",
       "      <td>0</td>\n",
       "      <td>0</td>\n",
       "      <td>0</td>\n",
       "      <td>0</td>\n",
       "      <td>0</td>\n",
       "      <td>0</td>\n",
       "      <td>0</td>\n",
       "      <td>...</td>\n",
       "      <td>0</td>\n",
       "      <td>0</td>\n",
       "      <td>0</td>\n",
       "      <td>0</td>\n",
       "      <td>0</td>\n",
       "      <td>0</td>\n",
       "      <td>0</td>\n",
       "      <td>0</td>\n",
       "      <td>0</td>\n",
       "      <td>0</td>\n",
       "    </tr>\n",
       "    <tr>\n",
       "      <td>1</td>\n",
       "      <td>0</td>\n",
       "      <td>0</td>\n",
       "      <td>0</td>\n",
       "      <td>0</td>\n",
       "      <td>0</td>\n",
       "      <td>0</td>\n",
       "      <td>0</td>\n",
       "      <td>0</td>\n",
       "      <td>0</td>\n",
       "      <td>0</td>\n",
       "      <td>...</td>\n",
       "      <td>0</td>\n",
       "      <td>0</td>\n",
       "      <td>0</td>\n",
       "      <td>0</td>\n",
       "      <td>0</td>\n",
       "      <td>0</td>\n",
       "      <td>0</td>\n",
       "      <td>0</td>\n",
       "      <td>1</td>\n",
       "      <td>0</td>\n",
       "    </tr>\n",
       "    <tr>\n",
       "      <td>2</td>\n",
       "      <td>0</td>\n",
       "      <td>0</td>\n",
       "      <td>0</td>\n",
       "      <td>0</td>\n",
       "      <td>0</td>\n",
       "      <td>0</td>\n",
       "      <td>0</td>\n",
       "      <td>0</td>\n",
       "      <td>0</td>\n",
       "      <td>0</td>\n",
       "      <td>...</td>\n",
       "      <td>0</td>\n",
       "      <td>0</td>\n",
       "      <td>0</td>\n",
       "      <td>0</td>\n",
       "      <td>0</td>\n",
       "      <td>0</td>\n",
       "      <td>0</td>\n",
       "      <td>1</td>\n",
       "      <td>0</td>\n",
       "      <td>0</td>\n",
       "    </tr>\n",
       "    <tr>\n",
       "      <td>3</td>\n",
       "      <td>0</td>\n",
       "      <td>0</td>\n",
       "      <td>0</td>\n",
       "      <td>0</td>\n",
       "      <td>0</td>\n",
       "      <td>0</td>\n",
       "      <td>0</td>\n",
       "      <td>0</td>\n",
       "      <td>0</td>\n",
       "      <td>0</td>\n",
       "      <td>...</td>\n",
       "      <td>0</td>\n",
       "      <td>0</td>\n",
       "      <td>0</td>\n",
       "      <td>0</td>\n",
       "      <td>0</td>\n",
       "      <td>0</td>\n",
       "      <td>0</td>\n",
       "      <td>0</td>\n",
       "      <td>1</td>\n",
       "      <td>0</td>\n",
       "    </tr>\n",
       "    <tr>\n",
       "      <td>4</td>\n",
       "      <td>0</td>\n",
       "      <td>0</td>\n",
       "      <td>0</td>\n",
       "      <td>0</td>\n",
       "      <td>0</td>\n",
       "      <td>0</td>\n",
       "      <td>0</td>\n",
       "      <td>0</td>\n",
       "      <td>0</td>\n",
       "      <td>0</td>\n",
       "      <td>...</td>\n",
       "      <td>0</td>\n",
       "      <td>0</td>\n",
       "      <td>0</td>\n",
       "      <td>0</td>\n",
       "      <td>0</td>\n",
       "      <td>0</td>\n",
       "      <td>0</td>\n",
       "      <td>1</td>\n",
       "      <td>0</td>\n",
       "      <td>0</td>\n",
       "    </tr>\n",
       "  </tbody>\n",
       "</table>\n",
       "<p>5 rows × 169 columns</p>\n",
       "</div>"
      ],
      "text/plain": [
       "   Instant food products  UHT-milk  abrasive cleaner  artif. sweetener  \\\n",
       "0                      0         0                 0                 0   \n",
       "1                      0         0                 0                 0   \n",
       "2                      0         0                 0                 0   \n",
       "3                      0         0                 0                 0   \n",
       "4                      0         0                 0                 0   \n",
       "\n",
       "   baby cosmetics  baby food  bags  baking powder  bathroom cleaner  beef  \\\n",
       "0               0          0     0              0                 0     0   \n",
       "1               0          0     0              0                 0     0   \n",
       "2               0          0     0              0                 0     0   \n",
       "3               0          0     0              0                 0     0   \n",
       "4               0          0     0              0                 0     0   \n",
       "\n",
       "   ...  turkey  vinegar  waffles  whipped/sour cream  whisky  white bread  \\\n",
       "0  ...       0        0        0                   0       0            0   \n",
       "1  ...       0        0        0                   0       0            0   \n",
       "2  ...       0        0        0                   0       0            0   \n",
       "3  ...       0        0        0                   0       0            0   \n",
       "4  ...       0        0        0                   0       0            0   \n",
       "\n",
       "   white wine  whole milk  yogurt  zwieback  \n",
       "0           0           0       0         0  \n",
       "1           0           0       1         0  \n",
       "2           0           1       0         0  \n",
       "3           0           0       1         0  \n",
       "4           0           1       0         0  \n",
       "\n",
       "[5 rows x 169 columns]"
      ]
     },
     "execution_count": 24,
     "metadata": {},
     "output_type": "execute_result"
    }
   ],
   "source": [
    "X = groceries_series['transactions'].str.join(sep='*')\n",
    "# print(X)\n",
    "\n",
    "# create dummy variable for each \n",
    "X= X.str.get_dummies(sep='*')\n",
    "X.head()"
   ]
  },
  {
   "cell_type": "markdown",
   "metadata": {},
   "source": [
    "# Association Rule Mining"
   ]
  },
  {
   "cell_type": "code",
   "execution_count": 25,
   "metadata": {},
   "outputs": [
    {
     "data": {
      "text/html": [
       "<div>\n",
       "<style scoped>\n",
       "    .dataframe tbody tr th:only-of-type {\n",
       "        vertical-align: middle;\n",
       "    }\n",
       "\n",
       "    .dataframe tbody tr th {\n",
       "        vertical-align: top;\n",
       "    }\n",
       "\n",
       "    .dataframe thead th {\n",
       "        text-align: right;\n",
       "    }\n",
       "</style>\n",
       "<table border=\"1\" class=\"dataframe\">\n",
       "  <thead>\n",
       "    <tr style=\"text-align: right;\">\n",
       "      <th></th>\n",
       "      <th>support</th>\n",
       "      <th>itemsets</th>\n",
       "    </tr>\n",
       "  </thead>\n",
       "  <tbody>\n",
       "    <tr>\n",
       "      <td>0</td>\n",
       "      <td>0.008033</td>\n",
       "      <td>(Instant food products)</td>\n",
       "    </tr>\n",
       "    <tr>\n",
       "      <td>1</td>\n",
       "      <td>0.033452</td>\n",
       "      <td>(UHT-milk)</td>\n",
       "    </tr>\n",
       "    <tr>\n",
       "      <td>2</td>\n",
       "      <td>0.017692</td>\n",
       "      <td>(baking powder)</td>\n",
       "    </tr>\n",
       "    <tr>\n",
       "      <td>3</td>\n",
       "      <td>0.052466</td>\n",
       "      <td>(beef)</td>\n",
       "    </tr>\n",
       "    <tr>\n",
       "      <td>4</td>\n",
       "      <td>0.033249</td>\n",
       "      <td>(berries)</td>\n",
       "    </tr>\n",
       "    <tr>\n",
       "      <td>...</td>\n",
       "      <td>...</td>\n",
       "      <td>...</td>\n",
       "    </tr>\n",
       "    <tr>\n",
       "      <td>984</td>\n",
       "      <td>0.010473</td>\n",
       "      <td>(whole milk, yogurt, soda)</td>\n",
       "    </tr>\n",
       "    <tr>\n",
       "      <td>985</td>\n",
       "      <td>0.007931</td>\n",
       "      <td>(whole milk, tropical fruit, whipped/sour cream)</td>\n",
       "    </tr>\n",
       "    <tr>\n",
       "      <td>986</td>\n",
       "      <td>0.006202</td>\n",
       "      <td>(yogurt, tropical fruit, whipped/sour cream)</td>\n",
       "    </tr>\n",
       "    <tr>\n",
       "      <td>987</td>\n",
       "      <td>0.015150</td>\n",
       "      <td>(whole milk, yogurt, tropical fruit)</td>\n",
       "    </tr>\n",
       "    <tr>\n",
       "      <td>988</td>\n",
       "      <td>0.010880</td>\n",
       "      <td>(whole milk, yogurt, whipped/sour cream)</td>\n",
       "    </tr>\n",
       "  </tbody>\n",
       "</table>\n",
       "<p>989 rows × 2 columns</p>\n",
       "</div>"
      ],
      "text/plain": [
       "      support                                          itemsets\n",
       "0    0.008033                           (Instant food products)\n",
       "1    0.033452                                        (UHT-milk)\n",
       "2    0.017692                                   (baking powder)\n",
       "3    0.052466                                            (beef)\n",
       "4    0.033249                                         (berries)\n",
       "..        ...                                               ...\n",
       "984  0.010473                        (whole milk, yogurt, soda)\n",
       "985  0.007931  (whole milk, tropical fruit, whipped/sour cream)\n",
       "986  0.006202      (yogurt, tropical fruit, whipped/sour cream)\n",
       "987  0.015150              (whole milk, yogurt, tropical fruit)\n",
       "988  0.010880          (whole milk, yogurt, whipped/sour cream)\n",
       "\n",
       "[989 rows x 2 columns]"
      ]
     },
     "execution_count": 25,
     "metadata": {},
     "output_type": "execute_result"
    }
   ],
   "source": [
    "frequent_itemsets = apriori(X, min_support=0.005, max_len=3,use_colnames = True)\n",
    "\n",
    "# min_spport = Threshold; max_len = only for the transaction with max 3 products\n",
    "frequent_itemsets"
   ]
  },
  {
   "cell_type": "code",
   "execution_count": 26,
   "metadata": {},
   "outputs": [
    {
     "data": {
      "text/html": [
       "<div>\n",
       "<style scoped>\n",
       "    .dataframe tbody tr th:only-of-type {\n",
       "        vertical-align: middle;\n",
       "    }\n",
       "\n",
       "    .dataframe tbody tr th {\n",
       "        vertical-align: top;\n",
       "    }\n",
       "\n",
       "    .dataframe thead th {\n",
       "        text-align: right;\n",
       "    }\n",
       "</style>\n",
       "<table border=\"1\" class=\"dataframe\">\n",
       "  <thead>\n",
       "    <tr style=\"text-align: right;\">\n",
       "      <th></th>\n",
       "      <th>support</th>\n",
       "      <th>itemsets</th>\n",
       "    </tr>\n",
       "  </thead>\n",
       "  <tbody>\n",
       "    <tr>\n",
       "      <td>117</td>\n",
       "      <td>0.255516</td>\n",
       "      <td>(whole milk)</td>\n",
       "    </tr>\n",
       "    <tr>\n",
       "      <td>73</td>\n",
       "      <td>0.193493</td>\n",
       "      <td>(other vegetables)</td>\n",
       "    </tr>\n",
       "    <tr>\n",
       "      <td>88</td>\n",
       "      <td>0.183935</td>\n",
       "      <td>(rolls/buns)</td>\n",
       "    </tr>\n",
       "    <tr>\n",
       "      <td>98</td>\n",
       "      <td>0.174377</td>\n",
       "      <td>(soda)</td>\n",
       "    </tr>\n",
       "    <tr>\n",
       "      <td>118</td>\n",
       "      <td>0.139502</td>\n",
       "      <td>(yogurt)</td>\n",
       "    </tr>\n",
       "    <tr>\n",
       "      <td>...</td>\n",
       "      <td>...</td>\n",
       "      <td>...</td>\n",
       "    </tr>\n",
       "    <tr>\n",
       "      <td>874</td>\n",
       "      <td>0.005084</td>\n",
       "      <td>(whole milk, tropical fruit, newspapers)</td>\n",
       "    </tr>\n",
       "    <tr>\n",
       "      <td>276</td>\n",
       "      <td>0.005084</td>\n",
       "      <td>(whole milk, chewing gum)</td>\n",
       "    </tr>\n",
       "    <tr>\n",
       "      <td>332</td>\n",
       "      <td>0.005084</td>\n",
       "      <td>(frankfurter, coffee)</td>\n",
       "    </tr>\n",
       "    <tr>\n",
       "      <td>346</td>\n",
       "      <td>0.005084</td>\n",
       "      <td>(curd, cream cheese )</td>\n",
       "    </tr>\n",
       "    <tr>\n",
       "      <td>271</td>\n",
       "      <td>0.005084</td>\n",
       "      <td>(other vegetables, canned fish)</td>\n",
       "    </tr>\n",
       "  </tbody>\n",
       "</table>\n",
       "<p>989 rows × 2 columns</p>\n",
       "</div>"
      ],
      "text/plain": [
       "      support                                  itemsets\n",
       "117  0.255516                              (whole milk)\n",
       "73   0.193493                        (other vegetables)\n",
       "88   0.183935                              (rolls/buns)\n",
       "98   0.174377                                    (soda)\n",
       "118  0.139502                                  (yogurt)\n",
       "..        ...                                       ...\n",
       "874  0.005084  (whole milk, tropical fruit, newspapers)\n",
       "276  0.005084                 (whole milk, chewing gum)\n",
       "332  0.005084                     (frankfurter, coffee)\n",
       "346  0.005084                     (curd, cream cheese )\n",
       "271  0.005084           (other vegetables, canned fish)\n",
       "\n",
       "[989 rows x 2 columns]"
      ]
     },
     "execution_count": 26,
     "metadata": {},
     "output_type": "execute_result"
    }
   ],
   "source": [
    "# Most Frequent item sets based on support \n",
    "frequent_itemsets.sort_values('support',ascending = False,inplace=True)\n",
    "frequent_itemsets"
   ]
  },
  {
   "cell_type": "code",
   "execution_count": 27,
   "metadata": {},
   "outputs": [
    {
     "data": {
      "text/html": [
       "<div>\n",
       "<style scoped>\n",
       "    .dataframe tbody tr th:only-of-type {\n",
       "        vertical-align: middle;\n",
       "    }\n",
       "\n",
       "    .dataframe tbody tr th {\n",
       "        vertical-align: top;\n",
       "    }\n",
       "\n",
       "    .dataframe thead th {\n",
       "        text-align: right;\n",
       "    }\n",
       "</style>\n",
       "<table border=\"1\" class=\"dataframe\">\n",
       "  <thead>\n",
       "    <tr style=\"text-align: right;\">\n",
       "      <th></th>\n",
       "      <th>antecedents</th>\n",
       "      <th>consequents</th>\n",
       "      <th>antecedent support</th>\n",
       "      <th>consequent support</th>\n",
       "      <th>support</th>\n",
       "      <th>confidence</th>\n",
       "      <th>lift</th>\n",
       "      <th>leverage</th>\n",
       "      <th>conviction</th>\n",
       "    </tr>\n",
       "  </thead>\n",
       "  <tbody>\n",
       "    <tr>\n",
       "      <td>2558</td>\n",
       "      <td>(ham)</td>\n",
       "      <td>(white bread)</td>\n",
       "      <td>0.026029</td>\n",
       "      <td>0.042095</td>\n",
       "      <td>0.005084</td>\n",
       "      <td>0.195312</td>\n",
       "      <td>4.639851</td>\n",
       "      <td>0.003988</td>\n",
       "      <td>1.190407</td>\n",
       "    </tr>\n",
       "    <tr>\n",
       "      <td>2559</td>\n",
       "      <td>(white bread)</td>\n",
       "      <td>(ham)</td>\n",
       "      <td>0.042095</td>\n",
       "      <td>0.026029</td>\n",
       "      <td>0.005084</td>\n",
       "      <td>0.120773</td>\n",
       "      <td>4.639851</td>\n",
       "      <td>0.003988</td>\n",
       "      <td>1.107758</td>\n",
       "    </tr>\n",
       "    <tr>\n",
       "      <td>2023</td>\n",
       "      <td>(whipped/sour cream)</td>\n",
       "      <td>(butter, other vegetables)</td>\n",
       "      <td>0.071683</td>\n",
       "      <td>0.020031</td>\n",
       "      <td>0.005796</td>\n",
       "      <td>0.080851</td>\n",
       "      <td>4.036397</td>\n",
       "      <td>0.004360</td>\n",
       "      <td>1.066171</td>\n",
       "    </tr>\n",
       "    <tr>\n",
       "      <td>2018</td>\n",
       "      <td>(butter, other vegetables)</td>\n",
       "      <td>(whipped/sour cream)</td>\n",
       "      <td>0.020031</td>\n",
       "      <td>0.071683</td>\n",
       "      <td>0.005796</td>\n",
       "      <td>0.289340</td>\n",
       "      <td>4.036397</td>\n",
       "      <td>0.004360</td>\n",
       "      <td>1.306275</td>\n",
       "    </tr>\n",
       "    <tr>\n",
       "      <td>1313</td>\n",
       "      <td>(root vegetables)</td>\n",
       "      <td>(herbs)</td>\n",
       "      <td>0.108998</td>\n",
       "      <td>0.016268</td>\n",
       "      <td>0.007016</td>\n",
       "      <td>0.064366</td>\n",
       "      <td>3.956477</td>\n",
       "      <td>0.005243</td>\n",
       "      <td>1.051406</td>\n",
       "    </tr>\n",
       "    <tr>\n",
       "      <td>1312</td>\n",
       "      <td>(herbs)</td>\n",
       "      <td>(root vegetables)</td>\n",
       "      <td>0.016268</td>\n",
       "      <td>0.108998</td>\n",
       "      <td>0.007016</td>\n",
       "      <td>0.431250</td>\n",
       "      <td>3.956477</td>\n",
       "      <td>0.005243</td>\n",
       "      <td>1.566596</td>\n",
       "    </tr>\n",
       "    <tr>\n",
       "      <td>2041</td>\n",
       "      <td>(root vegetables, other vegetables)</td>\n",
       "      <td>(onions)</td>\n",
       "      <td>0.047382</td>\n",
       "      <td>0.031012</td>\n",
       "      <td>0.005694</td>\n",
       "      <td>0.120172</td>\n",
       "      <td>3.875044</td>\n",
       "      <td>0.004225</td>\n",
       "      <td>1.101338</td>\n",
       "    </tr>\n",
       "    <tr>\n",
       "      <td>2044</td>\n",
       "      <td>(onions)</td>\n",
       "      <td>(root vegetables, other vegetables)</td>\n",
       "      <td>0.031012</td>\n",
       "      <td>0.047382</td>\n",
       "      <td>0.005694</td>\n",
       "      <td>0.183607</td>\n",
       "      <td>3.875044</td>\n",
       "      <td>0.004225</td>\n",
       "      <td>1.166862</td>\n",
       "    </tr>\n",
       "    <tr>\n",
       "      <td>2204</td>\n",
       "      <td>(citrus fruit, pip fruit)</td>\n",
       "      <td>(tropical fruit)</td>\n",
       "      <td>0.013828</td>\n",
       "      <td>0.104931</td>\n",
       "      <td>0.005592</td>\n",
       "      <td>0.404412</td>\n",
       "      <td>3.854060</td>\n",
       "      <td>0.004141</td>\n",
       "      <td>1.502831</td>\n",
       "    </tr>\n",
       "    <tr>\n",
       "      <td>2205</td>\n",
       "      <td>(tropical fruit)</td>\n",
       "      <td>(citrus fruit, pip fruit)</td>\n",
       "      <td>0.104931</td>\n",
       "      <td>0.013828</td>\n",
       "      <td>0.005592</td>\n",
       "      <td>0.053295</td>\n",
       "      <td>3.854060</td>\n",
       "      <td>0.004141</td>\n",
       "      <td>1.041688</td>\n",
       "    </tr>\n",
       "  </tbody>\n",
       "</table>\n",
       "</div>"
      ],
      "text/plain": [
       "                              antecedents  \\\n",
       "2558                                (ham)   \n",
       "2559                        (white bread)   \n",
       "2023                 (whipped/sour cream)   \n",
       "2018           (butter, other vegetables)   \n",
       "1313                    (root vegetables)   \n",
       "1312                              (herbs)   \n",
       "2041  (root vegetables, other vegetables)   \n",
       "2044                             (onions)   \n",
       "2204            (citrus fruit, pip fruit)   \n",
       "2205                     (tropical fruit)   \n",
       "\n",
       "                              consequents  antecedent support  \\\n",
       "2558                        (white bread)            0.026029   \n",
       "2559                                (ham)            0.042095   \n",
       "2023           (butter, other vegetables)            0.071683   \n",
       "2018                 (whipped/sour cream)            0.020031   \n",
       "1313                              (herbs)            0.108998   \n",
       "1312                    (root vegetables)            0.016268   \n",
       "2041                             (onions)            0.047382   \n",
       "2044  (root vegetables, other vegetables)            0.031012   \n",
       "2204                     (tropical fruit)            0.013828   \n",
       "2205            (citrus fruit, pip fruit)            0.104931   \n",
       "\n",
       "      consequent support   support  confidence      lift  leverage  conviction  \n",
       "2558            0.042095  0.005084    0.195312  4.639851  0.003988    1.190407  \n",
       "2559            0.026029  0.005084    0.120773  4.639851  0.003988    1.107758  \n",
       "2023            0.020031  0.005796    0.080851  4.036397  0.004360    1.066171  \n",
       "2018            0.071683  0.005796    0.289340  4.036397  0.004360    1.306275  \n",
       "1313            0.016268  0.007016    0.064366  3.956477  0.005243    1.051406  \n",
       "1312            0.108998  0.007016    0.431250  3.956477  0.005243    1.566596  \n",
       "2041            0.031012  0.005694    0.120172  3.875044  0.004225    1.101338  \n",
       "2044            0.047382  0.005694    0.183607  3.875044  0.004225    1.166862  \n",
       "2204            0.104931  0.005592    0.404412  3.854060  0.004141    1.502831  \n",
       "2205            0.013828  0.005592    0.053295  3.854060  0.004141    1.041688  "
      ]
     },
     "execution_count": 27,
     "metadata": {},
     "output_type": "execute_result"
    }
   ],
   "source": [
    "rules = association_rules(frequent_itemsets, metric=\"lift\", min_threshold=1)\n",
    "rules.head(20)\n",
    "rules.sort_values('lift',ascending = False,inplace=True)\n",
    "rules.head(10)"
   ]
  },
  {
   "cell_type": "code",
   "execution_count": 28,
   "metadata": {},
   "outputs": [
    {
     "data": {
      "image/png": "[encoded data removed]",
      "text/plain": [
       "<Figure size 432x288 with 1 Axes>"
      ]
     },
     "metadata": {
      "needs_background": "light"
     },
     "output_type": "display_data"
    }
   ],
   "source": [
    "sns.scatterplot(x=rules['support'],y=rules['confidence'], data=rules)\n",
    "plt.title(\"Association Rule\")\n",
    "plt.show()"
   ]
  },
  {
   "cell_type": "code",
   "execution_count": 29,
   "metadata": {},
   "outputs": [
    {
     "data": {
      "image/png": "[encoded data removed]",
      "text/plain": [
       "<Figure size 432x288 with 1 Axes>"
      ]
     },
     "metadata": {
      "needs_background": "light"
     },
     "output_type": "display_data"
    }
   ],
   "source": [
    "# Box plot to visuzlize lift\n",
    "sns.boxplot(rules['lift'], data=rules,orient='v')\n",
    "plt.show()"
   ]
  },
  {
   "cell_type": "code",
   "execution_count": 37,
   "metadata": {},
   "outputs": [
    {
     "data": {
      "image/png": "[encoded data removed]",
      "text/plain": [
       "<Figure size 432x432 with 2 Axes>"
      ]
     },
     "metadata": {
      "needs_background": "light"
     },
     "output_type": "display_data"
    }
   ],
   "source": [
    "A = rules.antecedents.iloc[0:10]\n",
    "B = rules.consequents.iloc[0:10]\n",
    "C = rules.lift.iloc[0:10]\n",
    "\n",
    "# frozen set error so change A & B:\n",
    "\n",
    "A = A.apply(lambda x: list(x)[0]).astype(\"unicode\")\n",
    "B = B.apply(lambda x: list(x)[0]).astype(\"unicode\")\n",
    "\n",
    "# plot figure against lift for top 10 'lift' value\n",
    "fig = plt.figure(figsize=(6,6))\n",
    "ax = plt.subplot(111)\n",
    "sc1 = plt.scatter(A,B, s = 200, c=C, cmap=plt.cm.jet)\n",
    "cbar = fig.colorbar(sc1, orientation='vertical')    \n",
    "plt.xticks(rotation=90)\n",
    "plt.xlabel(\"antecedents\")\n",
    "plt.ylabel(\"consequents\")\n",
    "plt.show()"
   ]
  },
  {
   "cell_type": "markdown",
   "metadata": {},
   "source": [
    "# With different values of support, confidence and length\n",
    "\n",
    "# Association Rule Mining"
   ]
  },
  {
   "cell_type": "code",
   "execution_count": 38,
   "metadata": {},
   "outputs": [
    {
     "name": "stdout",
     "output_type": "stream",
     "text": [
      "       support                           itemsets\n",
      "133   0.255516                       (whole milk)\n",
      "83    0.193493                 (other vegetables)\n",
      "98    0.183935                       (rolls/buns)\n",
      "111   0.174377                             (soda)\n",
      "134   0.139502                           (yogurt)\n",
      "...        ...                                ...\n",
      "1243  0.003050  (soft cheese, whipped/sour cream)\n",
      "664   0.003050               (dessert, margarine)\n",
      "844   0.003050       (grapes, whipped/sour cream)\n",
      "991   0.003050           (sliced cheese, napkins)\n",
      "110   0.003050                   (snack products)\n",
      "\n",
      "[1276 rows x 2 columns]\n",
      "\n",
      "\n",
      "\n"
     ]
    },
    {
     "data": {
      "text/html": [
       "<div>\n",
       "<style scoped>\n",
       "    .dataframe tbody tr th:only-of-type {\n",
       "        vertical-align: middle;\n",
       "    }\n",
       "\n",
       "    .dataframe tbody tr th {\n",
       "        vertical-align: top;\n",
       "    }\n",
       "\n",
       "    .dataframe thead th {\n",
       "        text-align: right;\n",
       "    }\n",
       "</style>\n",
       "<table border=\"1\" class=\"dataframe\">\n",
       "  <thead>\n",
       "    <tr style=\"text-align: right;\">\n",
       "      <th></th>\n",
       "      <th>antecedents</th>\n",
       "      <th>consequents</th>\n",
       "      <th>antecedent support</th>\n",
       "      <th>consequent support</th>\n",
       "      <th>support</th>\n",
       "      <th>confidence</th>\n",
       "      <th>lift</th>\n",
       "      <th>leverage</th>\n",
       "      <th>conviction</th>\n",
       "    </tr>\n",
       "  </thead>\n",
       "  <tbody>\n",
       "    <tr>\n",
       "      <td>2066</td>\n",
       "      <td>(hamburger meat)</td>\n",
       "      <td>(Instant food products)</td>\n",
       "      <td>0.033249</td>\n",
       "      <td>0.008033</td>\n",
       "      <td>0.003050</td>\n",
       "      <td>0.091743</td>\n",
       "      <td>11.421438</td>\n",
       "      <td>0.002783</td>\n",
       "      <td>1.092166</td>\n",
       "    </tr>\n",
       "    <tr>\n",
       "      <td>2067</td>\n",
       "      <td>(Instant food products)</td>\n",
       "      <td>(hamburger meat)</td>\n",
       "      <td>0.008033</td>\n",
       "      <td>0.033249</td>\n",
       "      <td>0.003050</td>\n",
       "      <td>0.379747</td>\n",
       "      <td>11.421438</td>\n",
       "      <td>0.002783</td>\n",
       "      <td>1.558640</td>\n",
       "    </tr>\n",
       "    <tr>\n",
       "      <td>1164</td>\n",
       "      <td>(sugar)</td>\n",
       "      <td>(flour)</td>\n",
       "      <td>0.033859</td>\n",
       "      <td>0.017387</td>\n",
       "      <td>0.004982</td>\n",
       "      <td>0.147147</td>\n",
       "      <td>8.463112</td>\n",
       "      <td>0.004394</td>\n",
       "      <td>1.152148</td>\n",
       "    </tr>\n",
       "    <tr>\n",
       "      <td>1165</td>\n",
       "      <td>(flour)</td>\n",
       "      <td>(sugar)</td>\n",
       "      <td>0.017387</td>\n",
       "      <td>0.033859</td>\n",
       "      <td>0.004982</td>\n",
       "      <td>0.286550</td>\n",
       "      <td>8.463112</td>\n",
       "      <td>0.004394</td>\n",
       "      <td>1.354182</td>\n",
       "    </tr>\n",
       "    <tr>\n",
       "      <td>2114</td>\n",
       "      <td>(processed cheese)</td>\n",
       "      <td>(ham)</td>\n",
       "      <td>0.016573</td>\n",
       "      <td>0.026029</td>\n",
       "      <td>0.003050</td>\n",
       "      <td>0.184049</td>\n",
       "      <td>7.070792</td>\n",
       "      <td>0.002619</td>\n",
       "      <td>1.193663</td>\n",
       "    </tr>\n",
       "    <tr>\n",
       "      <td>2115</td>\n",
       "      <td>(ham)</td>\n",
       "      <td>(processed cheese)</td>\n",
       "      <td>0.026029</td>\n",
       "      <td>0.016573</td>\n",
       "      <td>0.003050</td>\n",
       "      <td>0.117188</td>\n",
       "      <td>7.070792</td>\n",
       "      <td>0.002619</td>\n",
       "      <td>1.113970</td>\n",
       "    </tr>\n",
       "    <tr>\n",
       "      <td>1434</td>\n",
       "      <td>(processed cheese)</td>\n",
       "      <td>(white bread)</td>\n",
       "      <td>0.016573</td>\n",
       "      <td>0.042095</td>\n",
       "      <td>0.004169</td>\n",
       "      <td>0.251534</td>\n",
       "      <td>5.975445</td>\n",
       "      <td>0.003471</td>\n",
       "      <td>1.279824</td>\n",
       "    </tr>\n",
       "    <tr>\n",
       "      <td>1435</td>\n",
       "      <td>(white bread)</td>\n",
       "      <td>(processed cheese)</td>\n",
       "      <td>0.042095</td>\n",
       "      <td>0.016573</td>\n",
       "      <td>0.004169</td>\n",
       "      <td>0.099034</td>\n",
       "      <td>5.975445</td>\n",
       "      <td>0.003471</td>\n",
       "      <td>1.091524</td>\n",
       "    </tr>\n",
       "    <tr>\n",
       "      <td>1921</td>\n",
       "      <td>(sugar)</td>\n",
       "      <td>(baking powder)</td>\n",
       "      <td>0.033859</td>\n",
       "      <td>0.017692</td>\n",
       "      <td>0.003254</td>\n",
       "      <td>0.096096</td>\n",
       "      <td>5.431639</td>\n",
       "      <td>0.002655</td>\n",
       "      <td>1.086740</td>\n",
       "    </tr>\n",
       "    <tr>\n",
       "      <td>1920</td>\n",
       "      <td>(baking powder)</td>\n",
       "      <td>(sugar)</td>\n",
       "      <td>0.017692</td>\n",
       "      <td>0.033859</td>\n",
       "      <td>0.003254</td>\n",
       "      <td>0.183908</td>\n",
       "      <td>5.431639</td>\n",
       "      <td>0.002655</td>\n",
       "      <td>1.183863</td>\n",
       "    </tr>\n",
       "  </tbody>\n",
       "</table>\n",
       "</div>"
      ],
      "text/plain": [
       "                  antecedents              consequents  antecedent support  \\\n",
       "2066         (hamburger meat)  (Instant food products)            0.033249   \n",
       "2067  (Instant food products)         (hamburger meat)            0.008033   \n",
       "1164                  (sugar)                  (flour)            0.033859   \n",
       "1165                  (flour)                  (sugar)            0.017387   \n",
       "2114       (processed cheese)                    (ham)            0.016573   \n",
       "2115                    (ham)       (processed cheese)            0.026029   \n",
       "1434       (processed cheese)            (white bread)            0.016573   \n",
       "1435            (white bread)       (processed cheese)            0.042095   \n",
       "1921                  (sugar)          (baking powder)            0.033859   \n",
       "1920          (baking powder)                  (sugar)            0.017692   \n",
       "\n",
       "      consequent support   support  confidence       lift  leverage  \\\n",
       "2066            0.008033  0.003050    0.091743  11.421438  0.002783   \n",
       "2067            0.033249  0.003050    0.379747  11.421438  0.002783   \n",
       "1164            0.017387  0.004982    0.147147   8.463112  0.004394   \n",
       "1165            0.033859  0.004982    0.286550   8.463112  0.004394   \n",
       "2114            0.026029  0.003050    0.184049   7.070792  0.002619   \n",
       "2115            0.016573  0.003050    0.117188   7.070792  0.002619   \n",
       "1434            0.042095  0.004169    0.251534   5.975445  0.003471   \n",
       "1435            0.016573  0.004169    0.099034   5.975445  0.003471   \n",
       "1921            0.017692  0.003254    0.096096   5.431639  0.002655   \n",
       "1920            0.033859  0.003254    0.183908   5.431639  0.002655   \n",
       "\n",
       "      conviction  \n",
       "2066    1.092166  \n",
       "2067    1.558640  \n",
       "1164    1.152148  \n",
       "1165    1.354182  \n",
       "2114    1.193663  \n",
       "2115    1.113970  \n",
       "1434    1.279824  \n",
       "1435    1.091524  \n",
       "1921    1.086740  \n",
       "1920    1.183863  "
      ]
     },
     "execution_count": 38,
     "metadata": {},
     "output_type": "execute_result"
    }
   ],
   "source": [
    "frequent_itemsets1 = apriori(X, min_support=0.003,max_len= 2,use_colnames = True)\n",
    "# Most Frequent item sets based on support in decending order\n",
    "frequent_itemsets1.sort_values('support',ascending = False,inplace=True)\n",
    "print(frequent_itemsets1)\n",
    "print(\"\\n\\n\")\n",
    "\n",
    "rules1 = association_rules(frequent_itemsets1, metric=\"lift\", min_threshold=1)\n",
    "rules1.sort_values('lift',ascending = False,inplace=True)\n",
    "rules1.head(10)"
   ]
  },
  {
   "cell_type": "code",
   "execution_count": 39,
   "metadata": {},
   "outputs": [
    {
     "data": {
      "image/png": "[encoded data removed]",
      "text/plain": [
       "<Figure size 432x288 with 1 Axes>"
      ]
     },
     "metadata": {
      "needs_background": "light"
     },
     "output_type": "display_data"
    }
   ],
   "source": [
    "sns.scatterplot(x=rules1['support'],y=rules1['confidence'], data=rules1)\n",
    "plt.title(\"Association Rule\")\n",
    "plt.show()"
   ]
  },
  {
   "cell_type": "code",
   "execution_count": 40,
   "metadata": {},
   "outputs": [
    {
     "data": {
      "image/png": "[encoded data removed]",
      "text/plain": [
       "<Figure size 432x288 with 1 Axes>"
      ]
     },
     "metadata": {
      "needs_background": "light"
     },
     "output_type": "display_data"
    }
   ],
   "source": [
    "# Box plot to visuzlize lift\n",
    "sns.boxplot(rules['lift'], data=rules1,orient='v')\n",
    "plt.show()"
   ]
  },
  {
   "cell_type": "code",
   "execution_count": 41,
   "metadata": {},
   "outputs": [
    {
     "data": {
      "image/png": "[encoded data removed]",
      "text/plain": [
       "<Figure size 432x432 with 2 Axes>"
      ]
     },
     "metadata": {
      "needs_background": "light"
     },
     "output_type": "display_data"
    }
   ],
   "source": [
    "A1 = rules1.antecedents.iloc[0:10]\n",
    "B1 = rules1.consequents.iloc[0:10]\n",
    "C1 = rules1.lift.iloc[0:10]\n",
    "\n",
    "# frozen set error so change A & B:\n",
    "\n",
    "A1 = A1.apply(lambda x: list(x)[0]).astype(\"unicode\")\n",
    "B1 = B1.apply(lambda x: list(x)[0]).astype(\"unicode\")\n",
    "\n",
    "# plot figure against lift for top 10 'lift' value\n",
    "fig = plt.figure(figsize=(6,6))\n",
    "ax = plt.subplot(111)\n",
    "sc1 = plt.scatter(A1,B1, s = 200, c=C1, cmap=plt.cm.jet)\n",
    "cbar = fig.colorbar(sc1, orientation='vertical')    \n",
    "plt.xticks(rotation=90)\n",
    "plt.xlabel(\"antecedents\")\n",
    "plt.ylabel(\"consequents\")\n",
    "plt.show()"
   ]
  },
  {
   "cell_type": "code",
   "execution_count": null,
   "metadata": {},
   "outputs": [],
   "source": []
  }
 ],
 "metadata": {
  "kernelspec": {
   "display_name": "Python 3",
   "language": "python",
   "name": "python3"
  },
  "language_info": {
   "codemirror_mode": {
    "name": "ipython",
    "version": 3
   },
   "file_extension": ".py",
   "mimetype": "text/x-python",
   "name": "python",
   "nbconvert_exporter": "python",
   "pygments_lexer": "ipython3",
   "version": "3.7.4"
  }
 },
 "nbformat": 4,
 "nbformat_minor": 2
}
